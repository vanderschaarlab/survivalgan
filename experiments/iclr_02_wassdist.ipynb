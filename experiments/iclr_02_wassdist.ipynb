{
 "cells": [
  {
   "cell_type": "code",
   "execution_count": 1,
   "id": "e08803cf",
   "metadata": {},
   "outputs": [],
   "source": [
    "import sys\n",
    "import warnings\n",
    "\n",
    "import matplotlib.pyplot as plt\n",
    "import numpy as np\n",
    "import pandas as pd\n",
    "import seaborn as sns\n",
    "import synthcity.logger as log\n",
    "\n",
    "from datasets import get_dataset\n",
    "\n",
    "warnings.filterwarnings(\"ignore\", category=FutureWarning)\n",
    "\n",
    "log.remove()\n",
    "warnings.filterwarnings(\"ignore\")\n",
    "log.add(sink=sys.stderr, level=\"DEBUG\")"
   ]
  },
  {
   "cell_type": "code",
   "execution_count": null,
   "id": "003f9796",
   "metadata": {},
   "outputs": [],
   "source": []
  },
  {
   "cell_type": "code",
   "execution_count": 2,
   "id": "9827b559",
   "metadata": {},
   "outputs": [
    {
     "name": "stdout",
     "output_type": "stream",
     "text": [
      "[KeOps] Warning : cuda was detected, but driver API could not be initialized. Switching to cpu only.\n",
      "=======================\n",
      "Evaluate  aids\n",
      "=======================\n",
      "Evaluate  cutract\n",
      "=======================\n",
      "Evaluate  maggic\n",
      "=======================\n",
      "Evaluate  seer\n"
     ]
    },
    {
     "data": {
      "text/html": [
       "<table>\n",
       "<thead>\n",
       "<tr><th>dataset  </th><th>survival_gan   </th><th>ctgan          </th><th>nflow          </th><th>tvae           </th><th>privbayes      </th><th>adsgan         </th></tr>\n",
       "</thead>\n",
       "<tbody>\n",
       "<tr><td>aids     </td><td>0.153 +/- 0.021</td><td>0.851 +/- 0.072</td><td>1.701 +/- 0.193</td><td>1.967 +/- 0.053</td><td>1.08 +/- 0.273 </td><td>1.694 +/- 0.505</td></tr>\n",
       "<tr><td>cutract  </td><td>0.228 +/- 0.111</td><td>0.032 +/- 0.006</td><td>0.325 +/- 0.05 </td><td>1.43 +/- 0.199 </td><td>0.101 +/- 0.002</td><td>2.393 +/- 0.206</td></tr>\n",
       "<tr><td>maggic   </td><td>0.441 +/- 0.124</td><td>0.621 +/- 0.053</td><td>2.086 +/- 0.025</td><td>0.892 +/- 0.295</td><td>0.828 +/- 0.014</td><td>2.207 +/- 0.549</td></tr>\n",
       "<tr><td>seer     </td><td>0.42 +/- 0.291 </td><td>0.019 +/- 0.007</td><td>0.169 +/- 0.04 </td><td>1.902 +/- 0.093</td><td>0.146 +/- 0.011</td><td>2.108 +/- 0.0  </td></tr>\n",
       "</tbody>\n",
       "</table>"
      ],
      "text/plain": [
       "'<table>\\n<thead>\\n<tr><th>dataset  </th><th>survival_gan   </th><th>ctgan          </th><th>nflow          </th><th>tvae           </th><th>privbayes      </th><th>adsgan         </th></tr>\\n</thead>\\n<tbody>\\n<tr><td>aids     </td><td>0.153 +/- 0.021</td><td>0.851 +/- 0.072</td><td>1.701 +/- 0.193</td><td>1.967 +/- 0.053</td><td>1.08 +/- 0.273 </td><td>1.694 +/- 0.505</td></tr>\\n<tr><td>cutract  </td><td>0.228 +/- 0.111</td><td>0.032 +/- 0.006</td><td>0.325 +/- 0.05 </td><td>1.43 +/- 0.199 </td><td>0.101 +/- 0.002</td><td>2.393 +/- 0.206</td></tr>\\n<tr><td>maggic   </td><td>0.441 +/- 0.124</td><td>0.621 +/- 0.053</td><td>2.086 +/- 0.025</td><td>0.892 +/- 0.295</td><td>0.828 +/- 0.014</td><td>2.207 +/- 0.549</td></tr>\\n<tr><td>seer     </td><td>0.42 +/- 0.291 </td><td>0.019 +/- 0.007</td><td>0.169 +/- 0.04 </td><td>1.902 +/- 0.093</td><td>0.146 +/- 0.011</td><td>2.108 +/- 0.0  </td></tr>\\n</tbody>\\n</table>'"
      ]
     },
     "execution_count": 2,
     "metadata": {},
     "output_type": "execute_result"
    }
   ],
   "source": [
    "from pathlib import Path\n",
    "\n",
    "import tabulate\n",
    "from adjutorium.utils.metrics import generate_score, print_score\n",
    "from synthcity.metrics.eval_statistical import WassersteinDistance\n",
    "from synthcity.plugins.core.dataloader import SurvivalAnalysisDataLoader\n",
    "from synthcity.utils.serialization import (dataframe_hash, load_from_file,\n",
    "                                           save_to_file)\n",
    "\n",
    "log.remove()\n",
    "\n",
    "datasets = [\n",
    "    \"aids\",\n",
    "    \"cutract\",\n",
    "    \"maggic\",\n",
    "    \"seer\",\n",
    "]\n",
    "methods = [\"survival_gan\", \"ctgan\", \"nflow\", \"tvae\", \"privbayes\", \"adsgan\"]\n",
    "\n",
    "out_dir = Path(\"workspace\")\n",
    "headers = [\"dataset\"] + methods\n",
    "distances = []\n",
    "for ref_df in [\n",
    "    \"aids\",\n",
    "    \"cutract\",\n",
    "    \"maggic\",\n",
    "    \"seer\",\n",
    "]:\n",
    "\n",
    "    print(\"=======================\")\n",
    "    print(\"Evaluate \", ref_df)\n",
    "\n",
    "    df, duration_col, event_col, time_horizons = get_dataset(ref_df)\n",
    "    df_hash = dataframe_hash(df)\n",
    "\n",
    "    real_dataloader = SurvivalAnalysisDataLoader(\n",
    "        df, time_to_event_column=event_col, target_column=event_col\n",
    "    )\n",
    "    local_distance = [ref_df]\n",
    "    for method in methods:\n",
    "        scores = []\n",
    "        for seed in range(3):\n",
    "            model_bkp = out_dir / f\"{df_hash}_{method}_{seed}.bkp\"\n",
    "            syn_df = load_from_file(model_bkp)\n",
    "            try:\n",
    "                syn_df = syn_df.dataframe()\n",
    "            except BaseException as e:\n",
    "                pass\n",
    "\n",
    "            syn_dataloader = SurvivalAnalysisDataLoader(\n",
    "                syn_df, time_to_event_column=event_col, target_column=event_col\n",
    "            )\n",
    "            score = WassersteinDistance().evaluate(real_dataloader, syn_dataloader)[\n",
    "                \"joint\"\n",
    "            ]\n",
    "            assert not np.isnan(score), score\n",
    "            scores.append(score)\n",
    "        final_score = print_score(generate_score(scores))\n",
    "\n",
    "        local_distance.append(final_score)\n",
    "    distances.append(local_distance)\n",
    "\n",
    "tabulate.tabulate(distances, headers=headers, tablefmt=\"html\")"
   ]
  },
  {
   "cell_type": "code",
   "execution_count": null,
   "id": "7dde66b5",
   "metadata": {},
   "outputs": [],
   "source": [
    "\n"
   ]
  },
  {
   "cell_type": "code",
   "execution_count": 4,
   "id": "c771927e",
   "metadata": {},
   "outputs": [
    {
     "name": "stdout",
     "output_type": "stream",
     "text": [
      "=======================\n",
      "Evaluate  metabric\n"
     ]
    },
    {
     "data": {
      "text/html": [
       "<table>\n",
       "<thead>\n",
       "<tr><th>dataset  </th><th>survival_gan   </th><th>ctgan          </th><th>nflow           </th><th>tvae           </th><th>privbayes       </th><th>adsgan          </th></tr>\n",
       "</thead>\n",
       "<tbody>\n",
       "<tr><td>metabric </td><td>9.613 +/- 0.074</td><td>16.309 +/- 0.92</td><td>14.649 +/- 0.764</td><td>9.654 +/- 0.159</td><td>15.718 +/- 4.394</td><td>17.806 +/- 0.281</td></tr>\n",
       "</tbody>\n",
       "</table>"
      ],
      "text/plain": [
       "'<table>\\n<thead>\\n<tr><th>dataset  </th><th>survival_gan   </th><th>ctgan          </th><th>nflow           </th><th>tvae           </th><th>privbayes       </th><th>adsgan          </th></tr>\\n</thead>\\n<tbody>\\n<tr><td>metabric </td><td>9.613 +/- 0.074</td><td>16.309 +/- 0.92</td><td>14.649 +/- 0.764</td><td>9.654 +/- 0.159</td><td>15.718 +/- 4.394</td><td>17.806 +/- 0.281</td></tr>\\n</tbody>\\n</table>'"
      ]
     },
     "execution_count": 4,
     "metadata": {},
     "output_type": "execute_result"
    }
   ],
   "source": [
    "## metabric\n",
    "\n",
    "from pathlib import Path\n",
    "\n",
    "import tabulate\n",
    "from adjutorium.utils.metrics import generate_score, print_score\n",
    "from synthcity.metrics.eval_statistical import WassersteinDistance\n",
    "from synthcity.plugins.core.dataloader import SurvivalAnalysisDataLoader\n",
    "from synthcity.utils.serialization import (dataframe_hash, load_from_file,\n",
    "                                           save_to_file)\n",
    "\n",
    "log.remove()\n",
    "\n",
    "out_dir = Path(\"workspace_rebuttal\")\n",
    "methods = [\"survival_gan\", \"ctgan\", \"nflow\", \"tvae\", \"privbayes\", \"adsgan\"]\n",
    "\n",
    "headers = [\"dataset\"] + methods\n",
    "distances = []\n",
    "\n",
    "for ref_df in [\"metabric\"]:\n",
    "\n",
    "    print(\"=======================\")\n",
    "    print(\"Evaluate \", ref_df)\n",
    "\n",
    "    df, duration_col, event_col, time_horizons = get_dataset(ref_df)\n",
    "    df_hash = dataframe_hash(df)\n",
    "\n",
    "    real_dataloader = SurvivalAnalysisDataLoader(\n",
    "        df, time_to_event_column=event_col, target_column=event_col\n",
    "    )\n",
    "    local_distance = [ref_df]\n",
    "    for method in methods:\n",
    "        scores = []\n",
    "        for seed in range(3):\n",
    "            model_bkp = out_dir / f\"{df_hash}_{method}_{method}__{seed}.bkp\"\n",
    "            syn_df = load_from_file(model_bkp)\n",
    "            try:\n",
    "                syn_df = syn_df.dataframe()\n",
    "            except BaseException as e:\n",
    "                pass\n",
    "\n",
    "            syn_dataloader = SurvivalAnalysisDataLoader(\n",
    "                syn_df, time_to_event_column=event_col, target_column=event_col\n",
    "            )\n",
    "            score = WassersteinDistance().evaluate(real_dataloader, syn_dataloader)[\n",
    "                \"joint\"\n",
    "            ]\n",
    "            assert not np.isnan(score), score\n",
    "            scores.append(score)\n",
    "        final_score = print_score(generate_score(scores))\n",
    "\n",
    "        local_distance.append(final_score)\n",
    "    distances.append(local_distance)\n",
    "\n",
    "tabulate.tabulate(distances, headers=headers, tablefmt=\"html\")"
   ]
  },
  {
   "cell_type": "code",
   "execution_count": null,
   "id": "27712e4a",
   "metadata": {},
   "outputs": [],
   "source": []
  },
  {
   "cell_type": "code",
   "execution_count": null,
   "id": "2c9248c9",
   "metadata": {},
   "outputs": [],
   "source": []
  }
 ],
 "metadata": {
  "kernelspec": {
   "display_name": "py38",
   "language": "python",
   "name": "py38"
  },
  "language_info": {
   "codemirror_mode": {
    "name": "ipython",
    "version": 3
   },
   "file_extension": ".py",
   "mimetype": "text/x-python",
   "name": "python",
   "nbconvert_exporter": "python",
   "pygments_lexer": "ipython3",
   "version": "3.8.13"
  }
 },
 "nbformat": 4,
 "nbformat_minor": 5
}
