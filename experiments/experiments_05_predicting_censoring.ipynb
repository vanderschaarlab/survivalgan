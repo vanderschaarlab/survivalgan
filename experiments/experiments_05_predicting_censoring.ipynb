{
 "cells": [
  {
   "cell_type": "markdown",
   "id": "7893cd6b",
   "metadata": {},
   "source": [
    "# Predict the censoring(E) based on the synthetic covariates"
   ]
  },
  {
   "cell_type": "code",
   "execution_count": null,
   "id": "841881e1",
   "metadata": {},
   "outputs": [],
   "source": [
    "!pip install autoprognosis"
   ]
  },
  {
   "cell_type": "code",
   "execution_count": null,
   "id": "30c8ead2",
   "metadata": {},
   "outputs": [],
   "source": [
    "import sys\n",
    "from pathlib import Path\n",
    "\n",
    "import synthcity.logger as log\n",
    "from synthcity.benchmark import Benchmarks\n",
    "from synthcity.plugins import Plugins\n",
    "from synthcity.plugins.core.dataloader import SurvivalAnalysisDataLoader\n",
    "from synthcity.utils.serialization import load_from_file, save_to_file\n",
    "\n",
    "from datasets import get_dataset\n",
    "\n",
    "log.remove()\n",
    "log.add(sink=sys.stderr, level=\"INFO\")\n",
    "\n",
    "out_dir = Path(\"output\")\n",
    "\n",
    "\n",
    "def evaluate_dataset(dataset: str, plugin: tuple, repeats: int = 2):\n",
    "    df, duration_col, event_col, time_horizons = get_dataset(dataset)\n",
    "    dataloader = SurvivalAnalysisDataLoader(\n",
    "        df,\n",
    "        target_column=event_col,\n",
    "        time_to_event_column=duration_col,\n",
    "        time_horizons=time_horizons,\n",
    "    )\n",
    "    bkp = out_dir / f\"metrics.{dataset}_{plugin[0]}.bkp\"\n",
    "\n",
    "    if bkp.exists():\n",
    "        score = load_from_file(bkp)\n",
    "    else:\n",
    "        score = Benchmarks.evaluate(\n",
    "            [plugin],\n",
    "            dataloader,\n",
    "            task_type=\"survival_analysis\",\n",
    "            target_column=event_col,\n",
    "            time_to_event_column=duration_col,\n",
    "            time_horizons=time_horizons,\n",
    "            synthetic_size=len(df),\n",
    "            repeats=repeats,\n",
    "            metrics={\n",
    "                \"performance\": [\"linear_model\", \"xgb\"],\n",
    "                \"stats\": [\"survival_km_distance\"],\n",
    "            },\n",
    "        )\n",
    "        save_to_file(bkp, score)\n",
    "\n",
    "    return score"
   ]
  },
  {
   "cell_type": "code",
   "execution_count": null,
   "id": "5c402c9b",
   "metadata": {},
   "outputs": [],
   "source": [
    "eval_plugin = (\n",
    "    \"survival_predicting_censoring\",\n",
    "    \"survival_gan\",\n",
    "    {\"censoring_strategy\": \"covariate_dependent\"},\n",
    ")"
   ]
  },
  {
   "cell_type": "code",
   "execution_count": null,
   "id": "26bace6c",
   "metadata": {},
   "outputs": [],
   "source": []
  },
  {
   "cell_type": "code",
   "execution_count": null,
   "id": "847a1be9",
   "metadata": {},
   "outputs": [],
   "source": [
    "from autoprognosis.utils.tester import evaluate_estimator\n",
    "from xgboost import XGBClassifier\n",
    "\n",
    "df, duration_col, event_col, time_horizons = get_dataset(\"aids\")\n",
    "X = df.drop(columns=[duration_col, event_col])\n",
    "T = df[duration_col]\n",
    "E = df[event_col]\n",
    "\n",
    "evaluate_estimator(XGBClassifier(), X, E)"
   ]
  },
  {
   "cell_type": "code",
   "execution_count": null,
   "id": "59be656a",
   "metadata": {},
   "outputs": [],
   "source": [
    "from autoprognosis.utils.tester import evaluate_estimator\n",
    "from xgboost import XGBClassifier\n",
    "\n",
    "df, duration_col, event_col, time_horizons = get_dataset(\"aids\")\n",
    "X = df.drop(columns=[duration_col, event_col])\n",
    "T = df[duration_col]\n",
    "E = df[event_col]\n",
    "\n",
    "(E == 1).sum()"
   ]
  },
  {
   "cell_type": "code",
   "execution_count": null,
   "id": "9f560494",
   "metadata": {},
   "outputs": [],
   "source": []
  },
  {
   "cell_type": "code",
   "execution_count": null,
   "id": "bee642d6",
   "metadata": {},
   "outputs": [],
   "source": [
    "evaluate_dataset(\"aids\", eval_plugin)"
   ]
  },
  {
   "cell_type": "code",
   "execution_count": null,
   "id": "0fec4e49",
   "metadata": {},
   "outputs": [],
   "source": [
    "score = evaluate_dataset(\"aids\", eval_plugin)\n",
    "Benchmarks.print(score)"
   ]
  },
  {
   "cell_type": "code",
   "execution_count": null,
   "id": "f9ce6cf4",
   "metadata": {},
   "outputs": [],
   "source": []
  }
 ],
 "metadata": {
  "kernelspec": {
   "display_name": "py38",
   "language": "python",
   "name": "py38"
  },
  "language_info": {
   "codemirror_mode": {
    "name": "ipython",
    "version": 3
   },
   "file_extension": ".py",
   "mimetype": "text/x-python",
   "name": "python",
   "nbconvert_exporter": "python",
   "pygments_lexer": "ipython3",
   "version": "3.8.15"
  }
 },
 "nbformat": 4,
 "nbformat_minor": 5
}
